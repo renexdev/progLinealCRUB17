{
 "cells": [
  {
   "cell_type": "markdown",
   "metadata": {},
   "source": [
    "# Universidad Nacional del Comahue - Programación Lineal (2017)\n",
    "\n",
    "Docente: Dr. René Cejas Bolecek\n",
    "\n",
    "### Guía práctica  2 (04/10/17)\n",
    "\n",
    "https://github.com/renexdev/progLinealCRUB17\n",
    "\n",
    "<a id='contenidos'></a>\n",
    "# Tabla de Contenidos\n",
    "\n",
    "3.<a href='#intro'> Funciones</a>\n",
    "\n",
    " 3.1<a href='#intro'> Funciones</a>\n",
    " \n",
    " 3.2<a href='#generadores'> Generadores</a>\n",
    " \n",
    " 3.3<a href='#excepciones'> Excepciones</a>\n",
    " \n",
    "4.<a href='#poo'> Introducción a la programación orientada a objetos (OOP)</a>\n",
    " \n",
    "5.<a href='#io'> Lectura escritura de archivos</a>"
   ]
  },
  {
   "cell_type": "markdown",
   "metadata": {},
   "source": [
    "<a id='intro'></a>\n",
    "## 3.1 Funciones\n",
    "Hasta ahora hemos definido código en una celda: declaramos parámetros en variables, luego hemos realizado alguna operación e imprimimos y/o devolvemos un resultado. \n",
    "\n",
    "Para generalizar esto podemos declarar **funciones**, de manera de que no sea necesario redefinir variables en el código para calcular/realizar nuestra operación con diferentes parámetros. En Python las funciones se definen con la palabra reservada `def`"
   ]
  },
  {
   "cell_type": "code",
   "execution_count": 9,
   "metadata": {
    "collapsed": false
   },
   "outputs": [],
   "source": [
    "def cuadrado(numero):\n",
    "    \"\"\"Dado un escalar, devuelve su potencia cuadrada\"\"\"\n",
    "    return numero**2\n",
    "    "
   ]
  },
  {
   "cell_type": "code",
   "execution_count": 10,
   "metadata": {
    "collapsed": false
   },
   "outputs": [
    {
     "name": "stdout",
     "output_type": "stream",
     "text": [
      "9\n"
     ]
    }
   ],
   "source": [
    "print(cuadrado(3))"
   ]
  },
  {
   "cell_type": "code",
   "execution_count": 11,
   "metadata": {
    "collapsed": false
   },
   "outputs": [
    {
     "data": {
      "text/plain": [
       "4e+20"
      ]
     },
     "execution_count": 11,
     "metadata": {},
     "output_type": "execute_result"
    }
   ],
   "source": [
    "cuadrado(2e10)"
   ]
  },
  {
   "cell_type": "code",
   "execution_count": 12,
   "metadata": {
    "collapsed": false
   },
   "outputs": [
    {
     "data": {
      "text/plain": [
       "(24-10j)"
      ]
     },
     "execution_count": 12,
     "metadata": {},
     "output_type": "execute_result"
    }
   ],
   "source": [
    "cuadrado(5-1j)"
   ]
  },
  {
   "cell_type": "markdown",
   "metadata": {},
   "source": [
    "Notar que no **exigimos un tipo de dato** en la entrada de datos. Python es dinámico: se esperan **comportamientos** en vez de tipos. Un tipo de datos puede implementar distintos comportamientos y *\"funcionar\"* \n",
    "\n",
    "Si un número, cualquiera sea su tipo, puede elevarse al cuadrado, ¿por qué deberíamos hacer una función equivalente para enteros, otra para flotantes de simple precisión y otra para complejos como se hace en otros lenguajes?\n",
    "\n",
    "Esto es lo que se conoce como **[Duck typing](https://es.wikipedia.org/wiki/Duck_typing)**, que es el estilo de orientación a objetos que utiliza Python. \n"
   ]
  },
  {
   "cell_type": "code",
   "execution_count": 13,
   "metadata": {
    "collapsed": false
   },
   "outputs": [
    {
     "ename": "TypeError",
     "evalue": "unsupported operand type(s) for ** or pow(): 'str' and 'int'",
     "output_type": "error",
     "traceback": [
      "\u001b[0;31m---------------------------------------------------------------------------\u001b[0m",
      "\u001b[0;31mTypeError\u001b[0m                                 Traceback (most recent call last)",
      "\u001b[0;32m<ipython-input-13-96c34a475a00>\u001b[0m in \u001b[0;36m<module>\u001b[0;34m()\u001b[0m\n\u001b[0;32m----> 1\u001b[0;31m \u001b[0mcuadrado\u001b[0m\u001b[0;34m(\u001b[0m\u001b[0;34m\"hola mundo\"\u001b[0m\u001b[0;34m)\u001b[0m\u001b[0;34m\u001b[0m\u001b[0m\n\u001b[0m",
      "\u001b[0;32m<ipython-input-9-c7b469db7f17>\u001b[0m in \u001b[0;36mcuadrado\u001b[0;34m(numero)\u001b[0m\n\u001b[1;32m      1\u001b[0m \u001b[0;32mdef\u001b[0m \u001b[0mcuadrado\u001b[0m\u001b[0;34m(\u001b[0m\u001b[0mnumero\u001b[0m\u001b[0;34m)\u001b[0m\u001b[0;34m:\u001b[0m\u001b[0;34m\u001b[0m\u001b[0m\n\u001b[1;32m      2\u001b[0m     \u001b[0;34m\"\"\"Dado un escalar, devuelve su potencia cuadrada\"\"\"\u001b[0m\u001b[0;34m\u001b[0m\u001b[0m\n\u001b[0;32m----> 3\u001b[0;31m     \u001b[0;32mreturn\u001b[0m \u001b[0mnumero\u001b[0m\u001b[0;34m**\u001b[0m\u001b[0;36m2\u001b[0m\u001b[0;34m\u001b[0m\u001b[0m\n\u001b[0m\u001b[1;32m      4\u001b[0m \u001b[0;34m\u001b[0m\u001b[0m\n",
      "\u001b[0;31mTypeError\u001b[0m: unsupported operand type(s) for ** or pow(): 'str' and 'int'"
     ]
    }
   ],
   "source": [
    "cuadrado(\"hola mundo\")"
   ]
  },
  {
   "cell_type": "markdown",
   "metadata": {},
   "source": [
    "Obviamente, si el objeto, en este caso el tipo del objeto, que pasamos no soporta el comportamiento que esperamos fallará. \n",
    "\n",
    "Pero es mejor que nos avise del error, ¿no? ¿Por qué querríamos elevar una cadena al cuadrado? ¿qué significado tendría?\n",
    "\n",
    "La definción de funciones es muy flexible. No exige ni siquiera pasar parámetros o devolver resultados\n"
   ]
  },
  {
   "cell_type": "code",
   "execution_count": 14,
   "metadata": {
    "collapsed": false
   },
   "outputs": [
    {
     "name": "stdout",
     "output_type": "stream",
     "text": [
      "¡Hola curso!\n"
     ]
    }
   ],
   "source": [
    "# definimos una funcion que no recibe ni devuelve parámetros pero hace algo. \n",
    "def hola():\n",
    "    \"\"\"\n",
    "    una función que saluda\n",
    "    de una manera muy amable\n",
    "    \n",
    "    \"\"\"\n",
    "    \n",
    "    print(\"¡Hola curso!\")\n",
    "\n",
    "hola()   # llamamos a esa función\n",
    "\n",
    "''.format?"
   ]
  },
  {
   "cell_type": "code",
   "execution_count": 17,
   "metadata": {
    "collapsed": false
   },
   "outputs": [
    {
     "data": {
      "text/plain": [
       "<function __main__.hola>"
      ]
     },
     "execution_count": 17,
     "metadata": {},
     "output_type": "execute_result"
    }
   ],
   "source": [
    "hola"
   ]
  },
  {
   "cell_type": "markdown",
   "metadata": {},
   "source": [
    "Si la función no tiene un `return`, lo que devuelve es `None`."
   ]
  },
  {
   "cell_type": "code",
   "execution_count": 18,
   "metadata": {
    "collapsed": false
   },
   "outputs": [
    {
     "name": "stdout",
     "output_type": "stream",
     "text": [
      "¡Hola curso!\n",
      "None\n"
     ]
    }
   ],
   "source": [
    "saludo = hola()\n",
    "print(saludo)"
   ]
  },
  {
   "cell_type": "markdown",
   "metadata": {
    "collapsed": true
   },
   "source": [
    "#### Un paréntesis: docstrings\n",
    "\n",
    "Módulos, funciones, métodos y clases pueden tener una \"cadena de documentación\", que se define como un string \n",
    "en la primera linea del cuerpo. Python automáticamente asigna esa cadena al atributo `__doc__` del objeto en cuestión.\n",
    "\n",
    "Los `docstrings` **son opcionales pero muy recomendados**, porque a diferencia de los comentarios (que se ponen con `#`), son los que se muestran en la ayuda interactiva y tambien pueden post-procesarse para generar documentación de referencia automática\n",
    "\n"
   ]
  },
  {
   "cell_type": "code",
   "execution_count": 19,
   "metadata": {
    "collapsed": false
   },
   "outputs": [
    {
     "data": {
      "text/plain": [
       "'\\n    una función que saluda\\n    de una manera muy amable\\n    \\n    '"
      ]
     },
     "execution_count": 19,
     "metadata": {},
     "output_type": "execute_result"
    }
   ],
   "source": [
    "hola.__doc__"
   ]
  },
  {
   "cell_type": "markdown",
   "metadata": {},
   "source": [
    "Tip: `__doc__` es un atributo que se puede escribir, por lo tanto podríamos asignarle un texto construído dinámicamente"
   ]
  },
  {
   "cell_type": "markdown",
   "metadata": {},
   "source": [
    "#### Múltiples puntos de salida\n",
    "\n",
    "También puede haber múltiples `return` en una función. El primero en ejecutarse determinará el valor que la función devuelve"
   ]
  },
  {
   "cell_type": "code",
   "execution_count": 22,
   "metadata": {
    "collapsed": false
   },
   "outputs": [
    {
     "data": {
      "text/plain": [
       "'Buenas tardes, señorxs'"
      ]
     },
     "execution_count": 22,
     "metadata": {},
     "output_type": "execute_result"
    }
   ],
   "source": [
    "def saludo(coloquial):\n",
    "    if coloquial:\n",
    "        VAL = \"Hola gente!\"\n",
    "        return VAL.upper()\n",
    "    else:\n",
    "        return \"Buenas tardes, señorxs\"\n",
    "    \n",
    "    # Esto tambien podria ser una linea con la estructura ternaria\n",
    "    # return \"Hola chochamus!\" if coloquial else  \"Buenas tardes, señores\"\n",
    "    \n",
    "\n",
    "saludo(0)"
   ]
  },
  {
   "cell_type": "markdown",
   "metadata": {},
   "source": [
    "#### Parámetros opcionales\n",
    "\n",
    "Se pueden definir parámetros opcionales, que **toman un valor *default* ** cuando no se los explicíta"
   ]
  },
  {
   "cell_type": "markdown",
   "metadata": {},
   "source": [
    "La función `saluda` recibe un parámetro requerido `nombre` (es requerido porque no tiene valor por omisión)  y dos parámetros opcionales (`saludo` y `sufijo`). \n",
    "\n",
    "- Si sólo paso 1 parámetro será `nombre` y los valores default se usarán para los otros parámetros \n",
    "- Si paso 2 se usaran para `nombre` y `saludo` mientras que `sufijo` usará el default\n",
    "- Si paso todos los parámetros no se usaran los valores por omisión.\n"
   ]
  },
  {
   "cell_type": "code",
   "execution_count": 23,
   "metadata": {
    "collapsed": false
   },
   "outputs": [
    {
     "name": "stdout",
     "output_type": "stream",
     "text": [
      "Hola Martín, ¿qué tal?\n",
      "Ey Fernando, ¿qué tal?\n",
      "usted es un genio Lionel Messi, Estimado\n"
     ]
    }
   ],
   "source": [
    "def saludar(nombre, saludo=\"Hola\", sufijo=\"¿qué tal?\"):\n",
    "    \"\"\"Dado un nombre y, opcionalmente, un saludo y/o sufijo, devuelve \n",
    "    una cadena saludo + nombre + sufijo\"\"\"\n",
    "    \n",
    "    return \"{} {}, {}\".format(saludo, nombre, sufijo)  \n",
    "\n",
    "print(saludar(\"Martín\"))\n",
    "print(saludar(\"Fernando\", 'Ey'))\n",
    "print(saludar(\"Lionel Messi\", sufijo=\"Estimado\", saludo='usted es un genio'))"
   ]
  },
  {
   "cell_type": "markdown",
   "metadata": {},
   "source": [
    "Pero ¿qué pasa si quiero usar el default para `saludo` pero no para `sufijo`? \n",
    "\n",
    "Podemos pasar los **parámetros por nombre**"
   ]
  },
  {
   "cell_type": "code",
   "execution_count": 24,
   "metadata": {
    "collapsed": false
   },
   "outputs": [
    {
     "data": {
      "text/plain": [
       "'Buenas Lionel, que golazo hiciste'"
      ]
     },
     "execution_count": 24,
     "metadata": {},
     "output_type": "execute_result"
    }
   ],
   "source": [
    "saludar('Lionel', 'Buenas', sufijo=\"que golazo hiciste\")    # saludo no se explicitó, se usa el default (\"Hola\")"
   ]
  },
  {
   "cell_type": "markdown",
   "metadata": {},
   "source": [
    "Entre los parámetros por nombre no importa el órden, pero si mezclamos las dos formas, los **parámetros por posición, deben ir antes** de los parámetros por nombre. "
   ]
  },
  {
   "cell_type": "markdown",
   "metadata": {},
   "source": [
    "#### Ejercicio\n",
    "\n",
    "1. Definir una función `marquesina` que, dado un objeto, la devuelve como un texto decorado en una caja. El, ancho, alto del relleno y el caracter de decoración son parámetros opcionales. Por ejemplo, dada `\"Hola\"`, devuelve lo de abajo\n"
   ]
  },
  {
   "cell_type": "code",
   "execution_count": 1,
   "metadata": {
    "collapsed": false
   },
   "outputs": [
    {
     "name": "stdout",
     "output_type": "stream",
     "text": [
      "************************************************************\n",
      "*                                                          *\n",
      "*                           Hola                           *\n",
      "*                                                          *\n",
      "************************************************************\n",
      "------------------------------------------------------------\n",
      "-                                                          -\n",
      "-                                                          -\n",
      "-                        Grosoooo!                         -\n",
      "-                                                          -\n",
      "-                                                          -\n",
      "------------------------------------------------------------\n"
     ]
    }
   ],
   "source": []
  },
  {
   "cell_type": "markdown",
   "metadata": {},
   "source": [
    "#### Parámetros arbitrarios: `*args` y `**kwargs`\n",
    "\n",
    "Como hago si quiero definir una función que acepte una cantidad arbitraria de parámetros? Acá vienen `*args` y `**kwargs`. Por ejemplo la función `zip` recibe una cantidad arbitraria de iteradores y devuelve tuplas con los i-elementos de cada una"
   ]
  },
  {
   "cell_type": "code",
   "execution_count": 26,
   "metadata": {
    "collapsed": false
   },
   "outputs": [
    {
     "data": {
      "text/plain": [
       "[(1, 'a', 'alfa'), (2, 'b', 'beta'), (3, 'c', 'gama')]"
      ]
     },
     "execution_count": 26,
     "metadata": {},
     "output_type": "execute_result"
    }
   ],
   "source": [
    "list(zip((1, 2, 3), ('a', 'b', 'c'), ('alfa', 'beta', 'gama', 'theta')))"
   ]
  },
  {
   "cell_type": "markdown",
   "metadata": {},
   "source": [
    "¿Como se define una función como zip para recibir cuantos argumentos quiera?"
   ]
  },
  {
   "cell_type": "code",
   "execution_count": 27,
   "metadata": {
    "collapsed": false
   },
   "outputs": [],
   "source": [
    "def prod(*args):\n",
    "    \"\"\"\n",
    "    calcula la productoria de todos los argumentos dados\n",
    "    \"\"\"\n",
    "    \n",
    "    # print(args)           # args es una tupla de los argumentos posicionales dados. \n",
    "    producto = 1\n",
    "    for num in args:        \n",
    "        producto *= num     # igual a producto = producto * num\n",
    "    return producto"
   ]
  },
  {
   "cell_type": "code",
   "execution_count": 28,
   "metadata": {
    "collapsed": false
   },
   "outputs": [
    {
     "data": {
      "text/plain": [
       "24"
      ]
     },
     "execution_count": 28,
     "metadata": {},
     "output_type": "execute_result"
    }
   ],
   "source": [
    "prod(3, 4, 2)"
   ]
  },
  {
   "cell_type": "code",
   "execution_count": 29,
   "metadata": {
    "collapsed": false
   },
   "outputs": [
    {
     "data": {
      "text/plain": [
       "-223.87199999999999"
      ]
     },
     "execution_count": 29,
     "metadata": {},
     "output_type": "execute_result"
    }
   ],
   "source": [
    "prod(10, 20, -4, 1.2, .2332)"
   ]
  },
  {
   "cell_type": "markdown",
   "metadata": {},
   "source": [
    "Por otro lado, tenemos como ejemplo el constructor `dict` que acepta una argumentos arbitrarios por clave para crear un diccionario"
   ]
  },
  {
   "cell_type": "code",
   "execution_count": 30,
   "metadata": {
    "collapsed": false
   },
   "outputs": [
    {
     "data": {
      "text/plain": [
       "{'Carlitos': 10, 'Gaitán': 'Jugador Nº 12'}"
      ]
     },
     "execution_count": 30,
     "metadata": {},
     "output_type": "execute_result"
    }
   ],
   "source": [
    "dict(Carlitos=10, Gaitán='Jugador Nº 12')"
   ]
  },
  {
   "cell_type": "markdown",
   "metadata": {},
   "source": [
    "¿Cómo definir una función que permita esa flexibilidad? Eso se hace con `**kwarg`"
   ]
  },
  {
   "cell_type": "code",
   "execution_count": 31,
   "metadata": {
    "collapsed": false
   },
   "outputs": [],
   "source": [
    "def itemizar(**kwargs):\n",
    "    for clave, valor in kwargs.items():\n",
    "        print('* {0} ({1})'.format(clave, valor))"
   ]
  },
  {
   "cell_type": "code",
   "execution_count": 33,
   "metadata": {
    "collapsed": false
   },
   "outputs": [
    {
     "name": "stdout",
     "output_type": "stream",
     "text": [
      "* tornillos (10)\n",
      "* lija (2)\n",
      "* cualquiera (10)\n"
     ]
    }
   ],
   "source": [
    "itemizar(tornillos=10, lija=2, cualquiera=10)"
   ]
  },
  {
   "cell_type": "markdown",
   "metadata": {},
   "source": [
    "En resúmen, con `*args` se indica *\"mapear todos los argumentos posicionales no explícitos a una tupla llamada `args`\"*. Y con `**kwargs` se indica \"mapear todos los argumentos de palabra clave no explícitos a un diccionario llamado `kwargs`\"."
   ]
  },
  {
   "cell_type": "code",
   "execution_count": 34,
   "metadata": {
    "collapsed": false
   },
   "outputs": [],
   "source": [
    "def f(a1,*args,**kwargs):\n",
    "    print('a1=', a1)\n",
    "    print('args=', args)\n",
    "    print('kwargs=', kwargs)\n"
   ]
  },
  {
   "cell_type": "code",
   "execution_count": 35,
   "metadata": {
    "collapsed": false
   },
   "outputs": [
    {
     "name": "stdout",
     "output_type": "stream",
     "text": [
      "a1= 4\n",
      "args= ()\n",
      "kwargs= {}\n"
     ]
    }
   ],
   "source": [
    "f(4)   # solo definido el parámetro común a"
   ]
  },
  {
   "cell_type": "code",
   "execution_count": 36,
   "metadata": {
    "collapsed": false
   },
   "outputs": [
    {
     "name": "stdout",
     "output_type": "stream",
     "text": [
      "a1= a1\n",
      "args= (1, 2)\n",
      "kwargs= {}\n"
     ]
    }
   ],
   "source": [
    "f('a1', 1, 2)    # 'a1' y dos argumentos posicionales arbitrarios"
   ]
  },
  {
   "cell_type": "code",
   "execution_count": 37,
   "metadata": {
    "collapsed": false
   },
   "outputs": [
    {
     "name": "stdout",
     "output_type": "stream",
     "text": [
      "a1= 2\n",
      "args= (1, 2)\n",
      "kwargs= {'color': 'azul', 'detallado': True}\n"
     ]
    }
   ],
   "source": [
    "f('2', 1, 2, color='azul', detallado=True)   # "
   ]
  },
  {
   "cell_type": "markdown",
   "metadata": {},
   "source": [
    "\n",
    "\n",
    "** NOTA **: No es necesario los nombres \"args\" y \"kwargs\", podemos llamarlas diferente! los simbolos que indican cantidades arbitrarias de parametros son `*` y `**`. Además es posible poner parametros \"comunes\" antes de los parametros arbritarios.\n",
    "\n",
    "\n",
    "\n"
   ]
  },
  {
   "cell_type": "markdown",
   "metadata": {},
   "source": [
    "\n",
    "#### La inversa: Desempacar secuencias o diccionarios directamente como argumentos\n",
    "\n",
    "Si ya tengo los parámetros que quiero pasar a una función, los \"desempaco\". \n"
   ]
  },
  {
   "cell_type": "code",
   "execution_count": 38,
   "metadata": {
    "collapsed": false
   },
   "outputs": [
    {
     "data": {
      "text/plain": [
       "'Che José, sos vivo?'"
      ]
     },
     "execution_count": 38,
     "metadata": {},
     "output_type": "execute_result"
    }
   ],
   "source": [
    "otra_data = ('Che', 'sos vivo?')\n",
    "\n",
    "\n",
    "saludar('José', *otra_data)   # el primer elemento desempacado, va al primer arg posicional esperado... \n"
   ]
  },
  {
   "cell_type": "code",
   "execution_count": 4,
   "metadata": {
    "collapsed": false
   },
   "outputs": [],
   "source": [
    "saludar??"
   ]
  },
  {
   "cell_type": "code",
   "execution_count": 43,
   "metadata": {
    "collapsed": false
   },
   "outputs": [
    {
     "data": {
      "text/plain": [
       "'Ey Cristian, qué onda?'"
      ]
     },
     "execution_count": 43,
     "metadata": {},
     "output_type": "execute_result"
    }
   ],
   "source": [
    "mi_data = {'nombre': 'Cristian', 'saludo': 'Ey', 'sufijo': 'qué onda?'}\n",
    "\n",
    "saludar(**mi_data)"
   ]
  },
  {
   "cell_type": "code",
   "execution_count": 44,
   "metadata": {
    "collapsed": false
   },
   "outputs": [],
   "source": [
    "def saludar2(nombre, saludo=\"Hola\", sufijo=\"¿qué tal?\", **kwargs):\n",
    "    \"\"\"Dado un nombre y, opcionalmente, un saludo y/o sufijo, devuelve \n",
    "    una cadena saludo + nombre + sufijo\"\"\"\n",
    "    \n",
    "\n",
    "    return \"{saludo} {nombre}, {sufijo}\".format(**locals())"
   ]
  },
  {
   "cell_type": "code",
   "execution_count": 45,
   "metadata": {
    "collapsed": false
   },
   "outputs": [
    {
     "data": {
      "text/plain": [
       "'Ey Cristian, qué onda?'"
      ]
     },
     "execution_count": 45,
     "metadata": {},
     "output_type": "execute_result"
    }
   ],
   "source": [
    "saludar2(**mi_data)"
   ]
  },
  {
   "cell_type": "markdown",
   "metadata": {},
   "source": [
    "Obviamente, si pasamos más parámetros de los esperados por la función (y no permite parámetros arbritrarios), dará un error"
   ]
  },
  {
   "cell_type": "code",
   "execution_count": 48,
   "metadata": {
    "collapsed": false
   },
   "outputs": [
    {
     "data": {
      "text/plain": [
       "'Ey Cristian, qué onda'"
      ]
     },
     "execution_count": 48,
     "metadata": {},
     "output_type": "execute_result"
    }
   ],
   "source": [
    "mi_data = {'nombre': 'Cristian', 'saludo': 'Ey', 'sufijo': 'qué onda'}\n",
    "saludar(**mi_data)"
   ]
  },
  {
   "cell_type": "markdown",
   "metadata": {},
   "source": [
    "#### Ejercicio\n",
    "\n",
    "1. Dada las función `prod` y `marquesina` definidas con anterioridad, redefina `prod` agregando un parámetro opcional `enmamarcar` (`False` por defecto) que si es verdadero devuelve el resultado de la productoria en una marqeusina. Cualquier otro parámetro se pasa directamente a la función marquesina. \n"
   ]
  },
  {
   "cell_type": "code",
   "execution_count": 64,
   "metadata": {
    "collapsed": true
   },
   "outputs": [],
   "source": []
  },
  {
   "cell_type": "code",
   "execution_count": 69,
   "metadata": {
    "collapsed": false
   },
   "outputs": [
    {
     "name": "stdout",
     "output_type": "stream",
     "text": [
      "================================================================================\n",
      "=                                                                              =\n",
      "=                                      6                                       =\n",
      "=                                                                              =\n",
      "================================================================================\n"
     ]
    }
   ],
   "source": [
    "print(prod(1,2,3, enmarcar=True, ancho=80, caracter='='))"
   ]
  },
  {
   "cell_type": "markdown",
   "metadata": {},
   "source": [
    "### Espacios de nombre y paso por asignación\n",
    "\n",
    "Una función define un **espacio de nombre** (namespace), es decir, un contexto donde un nombre de variable refiere a un objeto univoco dentro de ese espacio. Si un nombre no existe en el espacio de nombre local, se busca en el espacio global (módulo o sesión)\n"
   ]
  },
  {
   "cell_type": "code",
   "execution_count": 49,
   "metadata": {
    "collapsed": false
   },
   "outputs": [
    {
     "data": {
      "text/plain": [
       "3.14"
      ]
     },
     "execution_count": 49,
     "metadata": {},
     "output_type": "execute_result"
    }
   ],
   "source": [
    "pi = 3.14\n",
    "\n",
    "def area(r):\n",
    "    return pi * r * r       # pi no está en en el espacio local, se usa el definido fuera de la función\n",
    "\n",
    "\n",
    "r1 =1\n",
    "area(r1)"
   ]
  },
  {
   "cell_type": "code",
   "execution_count": 50,
   "metadata": {
    "collapsed": false
   },
   "outputs": [
    {
     "name": "stdout",
     "output_type": "stream",
     "text": [
      "3.1415\n",
      "3.14\n"
     ]
    }
   ],
   "source": [
    "pi = 3.14\n",
    "\n",
    "def area2(r):\n",
    "    pi = 3.1415            # este nuevo objeto sobreescribe para el espacio de nombre local el valor de pi\n",
    "    return pi * r * r      # en este caso, se usa el pi pasado a la función\n",
    "\n",
    "print(area2(1))\n",
    "print(pi)                      # pero afuera sigue valiendo el del espacio global"
   ]
  },
  {
   "cell_type": "markdown",
   "metadata": {},
   "source": [
    "tip: dentro de cualquier namespace, la función `locals()` devuelve el diccionario de nombres definidos"
   ]
  },
  {
   "cell_type": "code",
   "execution_count": 52,
   "metadata": {
    "collapsed": false
   },
   "outputs": [
    {
     "name": "stdout",
     "output_type": "stream",
     "text": [
      "{'b': 'algo', 'BLAH': 'bleh', 'a': 2}\n"
     ]
    }
   ],
   "source": [
    "def namespaces(a, b):\n",
    "    BLAH = 'bleh'\n",
    "    print(locals())    \n",
    "\n",
    "namespaces(2, b='algo')"
   ]
  },
  {
   "cell_type": "markdown",
   "metadata": {},
   "source": [
    "En python se dice que los argumentos se pasan \"por asignación\", es decir, se asigna un nombre en el espacio de nombres local a un objeto existente, independientemente de si ya tiene un nombre en el espacio global.  Pero si ese objeto es mutable, la función podría modificar el objeto\n"
   ]
  },
  {
   "cell_type": "code",
   "execution_count": 53,
   "metadata": {
    "collapsed": false
   },
   "outputs": [
    {
     "name": "stdout",
     "output_type": "stream",
     "text": [
      "[10, 'b']\n"
     ]
    },
    {
     "data": {
      "text/plain": [
       "[10, 'b']"
      ]
     },
     "execution_count": 53,
     "metadata": {},
     "output_type": "execute_result"
    }
   ],
   "source": [
    "def f2(l):\n",
    "    l[0] = 10   \n",
    "    return l\n",
    "\n",
    "\n",
    "lista = ['a', 'b']\n",
    "print(f2(lista))\n",
    "\n",
    "# pero se modificó el objeto fuera de la funcion\n",
    "lista"
   ]
  },
  {
   "cell_type": "code",
   "execution_count": 54,
   "metadata": {
    "collapsed": false
   },
   "outputs": [
    {
     "name": "stdout",
     "output_type": "stream",
     "text": [
      "[10, 'b']\n"
     ]
    },
    {
     "data": {
      "text/plain": [
       "['a', 'b']"
      ]
     },
     "execution_count": 54,
     "metadata": {},
     "output_type": "execute_result"
    }
   ],
   "source": [
    "def f2(l):\n",
    "    l = l.copy()\n",
    "    l[0] = 10   \n",
    "    return l\n",
    "\n",
    "\n",
    "lista = ['a', 'b']\n",
    "print(f2(lista))\n",
    "\n",
    "lista"
   ]
  },
  {
   "cell_type": "markdown",
   "metadata": {},
   "source": [
    "En general, siempre es mejor que la funciones devuelvan objetos nuevos"
   ]
  },
  {
   "cell_type": "code",
   "execution_count": 55,
   "metadata": {
    "collapsed": false
   },
   "outputs": [
    {
     "name": "stdout",
     "output_type": "stream",
     "text": [
      "[10, 'b']\n"
     ]
    },
    {
     "data": {
      "text/plain": [
       "['a', 'b']"
      ]
     },
     "execution_count": 55,
     "metadata": {},
     "output_type": "execute_result"
    }
   ],
   "source": [
    "def f2(l):\n",
    "    return [10] + l[1:]\n",
    "\n",
    "lista = ['a', 'b']\n",
    "print(f2(lista))\n",
    "lista\n"
   ]
  },
  {
   "cell_type": "markdown",
   "metadata": {},
   "source": [
    "#### Ejercicios \n",
    "\n",
    "1. Una función puede retornar cualquier objeto y en Python todo es un objeto. Defina una [función de orden superior](https://es.wikipedia.org/wiki/Funci%C3%B3n_de_orden_superior) (función que devuelve funciones) llamada `lineal` que dados los coeficientes `a` y `b` devuelve $f(x) = ax + b$. \n",
    "\n",
    "2. Mejorar la función anterior, generando un docstring dinámico para cada función devuelta indicando la función lineal específica que resuelve.\n"
   ]
  },
  {
   "cell_type": "code",
   "execution_count": null,
   "metadata": {
    "collapsed": true
   },
   "outputs": [],
   "source": []
  },
  {
   "cell_type": "code",
   "execution_count": null,
   "metadata": {
    "collapsed": false
   },
   "outputs": [],
   "source": []
  },
  {
   "cell_type": "markdown",
   "metadata": {},
   "source": [
    "<a id='generadores'></a>\n",
    "## 3.2 Generadores\n",
    "<a href='#contenidos'>Tabla de Contenidos</a>\n",
    "\n",
    "Los generadores son similares a las funciones, pero permiten generar **una serie de resultados** para ser iterados (o sea, genera un iterador), devolviendo un valor por cada llamada. Ejemplos de funciones generadoras son `zip`, `enumerate` y `range`, que ya vimos. \n",
    "\n",
    "También mencionamos la versión por comprenhensión `(f(x) for x in iter)`. La forma funcional es casi igual a la las funciones comunes, pero en vez de `return` se utiliza `yield` que funciona como **una pausa** (que devuelve opcionalmente un valor) en la ejecución.\n"
   ]
  },
  {
   "cell_type": "code",
   "execution_count": 56,
   "metadata": {
    "collapsed": true
   },
   "outputs": [],
   "source": [
    "def generador_ejemplo():\n",
    "    print('antes del primer yield')\n",
    "    yield 1               # sale devolviendo. la proxima llamada comenzará en la siguiente linea\n",
    "    print('antes del segundo')\n",
    "    yield                 # como return, puede devolver None\n",
    "    print('antes del último')\n",
    "    yield 10\n",
    "    print('final')"
   ]
  },
  {
   "cell_type": "code",
   "execution_count": 57,
   "metadata": {
    "collapsed": false
   },
   "outputs": [
    {
     "data": {
      "text/plain": [
       "<generator object generador_ejemplo at 0x7f86e4f61620>"
      ]
     },
     "execution_count": 57,
     "metadata": {},
     "output_type": "execute_result"
    }
   ],
   "source": [
    "g = generador_ejemplo()\n",
    "g"
   ]
  },
  {
   "cell_type": "markdown",
   "metadata": {},
   "source": [
    "Para pedirles los valores uno a uno a un iterador (un generador es siempre un iterador), podemos usar la función `next`"
   ]
  },
  {
   "cell_type": "code",
   "execution_count": 58,
   "metadata": {
    "collapsed": false
   },
   "outputs": [
    {
     "name": "stdout",
     "output_type": "stream",
     "text": [
      "antes del primer yield\n"
     ]
    },
    {
     "data": {
      "text/plain": [
       "1"
      ]
     },
     "execution_count": 58,
     "metadata": {},
     "output_type": "execute_result"
    }
   ],
   "source": [
    "next(g)"
   ]
  },
  {
   "cell_type": "code",
   "execution_count": 59,
   "metadata": {
    "collapsed": false
   },
   "outputs": [
    {
     "name": "stdout",
     "output_type": "stream",
     "text": [
      "antes del segundo\n"
     ]
    }
   ],
   "source": [
    "next(g)"
   ]
  },
  {
   "cell_type": "code",
   "execution_count": 60,
   "metadata": {
    "collapsed": false
   },
   "outputs": [
    {
     "name": "stdout",
     "output_type": "stream",
     "text": [
      "antes del último\n"
     ]
    },
    {
     "data": {
      "text/plain": [
       "10"
      ]
     },
     "execution_count": 60,
     "metadata": {},
     "output_type": "execute_result"
    }
   ],
   "source": [
    "next(g)"
   ]
  },
  {
   "cell_type": "code",
   "execution_count": 61,
   "metadata": {
    "collapsed": false
   },
   "outputs": [
    {
     "name": "stdout",
     "output_type": "stream",
     "text": [
      "final\n"
     ]
    },
    {
     "ename": "StopIteration",
     "evalue": "",
     "output_type": "error",
     "traceback": [
      "\u001b[0;31m---------------------------------------------------------------------------\u001b[0m",
      "\u001b[0;31mStopIteration\u001b[0m                             Traceback (most recent call last)",
      "\u001b[0;32m<ipython-input-61-5f315c5de15b>\u001b[0m in \u001b[0;36m<module>\u001b[0;34m()\u001b[0m\n\u001b[0;32m----> 1\u001b[0;31m \u001b[0mnext\u001b[0m\u001b[0;34m(\u001b[0m\u001b[0mg\u001b[0m\u001b[0;34m)\u001b[0m\u001b[0;34m\u001b[0m\u001b[0m\n\u001b[0m",
      "\u001b[0;31mStopIteration\u001b[0m: "
     ]
    }
   ],
   "source": [
    "next(g)"
   ]
  },
  {
   "cell_type": "markdown",
   "metadata": {},
   "source": [
    "Que es basicamente lo que hace la sentencia `for`"
   ]
  },
  {
   "cell_type": "code",
   "execution_count": 62,
   "metadata": {
    "collapsed": false
   },
   "outputs": [
    {
     "name": "stdout",
     "output_type": "stream",
     "text": [
      "antes del primer yield\n",
      "Valor:  1\n",
      "antes del segundo\n",
      "Valor:  None\n",
      "antes del último\n",
      "Valor:  10\n",
      "final\n"
     ]
    }
   ],
   "source": [
    "for valor in generador_ejemplo():\n",
    "    print('Valor: ', valor)"
   ]
  },
  {
   "cell_type": "markdown",
   "metadata": {},
   "source": [
    "La clave de un generador es que **no es necesario computar todos los valores posibles** de una serie, sino que los vamos creando uno a uno *bajo demanda* ahorrando tiempo de procesador y memoria. "
   ]
  },
  {
   "cell_type": "code",
   "execution_count": 63,
   "metadata": {
    "collapsed": false
   },
   "outputs": [
    {
     "data": {
      "text/plain": [
       "[0, 1, 1, 2, 3, 5, 8, 13, 21, 34]"
      ]
     },
     "execution_count": 63,
     "metadata": {},
     "output_type": "execute_result"
    }
   ],
   "source": [
    "def fibonacci(n):\n",
    "    \"\"\"Generador de n primeros numeros de fibonacci\"\"\"\n",
    "    i = 0\n",
    "    a, b = 0, 1\n",
    "    while i < n:\n",
    "        i += 1\n",
    "        yield a            # devolvemos un valor. En el proximo llamado retornará desde este punto, \n",
    "                           # con los valores de locals() tal como estaban antes de hacer el yield\n",
    "        a, b = b, a + b\n",
    "\n",
    "list(fibonacci(10))"
   ]
  },
  {
   "cell_type": "markdown",
   "metadata": {},
   "source": [
    "#### Ejercicio\n",
    "\n",
    "Defina un generador `encadenar` que recibe una cantidad arbitraria de iteradores como parámetros y encadena el último elemento de un iterador con el primero del siguiente. Por ejemplo `list(encadenar('AB', 'CD', 'EF'))` devuelve `['B', 'A', 'D', 'C', 'F', 'E']`. "
   ]
  },
  {
   "cell_type": "code",
   "execution_count": 55,
   "metadata": {
    "collapsed": false
   },
   "outputs": [
    {
     "data": {
      "text/plain": [
       "['B', 'A', 'D', 'C', 'F', 'E']"
      ]
     },
     "execution_count": 55,
     "metadata": {},
     "output_type": "execute_result"
    }
   ],
   "source": [
    "\n",
    "\n"
   ]
  },
  {
   "cell_type": "code",
   "execution_count": 64,
   "metadata": {
    "collapsed": false
   },
   "outputs": [
    {
     "data": {
      "text/plain": [
       "['A', 'B', 'C', 'D', 'E', 'F']"
      ]
     },
     "execution_count": 64,
     "metadata": {},
     "output_type": "execute_result"
    }
   ],
   "source": [
    "import itertools\n",
    "\n",
    "list(itertools.chain('AB', 'CD','EF'))\n"
   ]
  },
  {
   "cell_type": "markdown",
   "metadata": {},
   "source": [
    "<a id='excepciones'></a>\n",
    "## 3.3 Excepciones\n",
    "<a href='#contenidos'>Tabla de Contenidos</a>\n",
    "\n",
    "Ya vimos que a veces suceden errores: por ejemplo, cuando apuntamos a un elemento mayor al tamaño de una secuencia, cuando pedimos el valor de una clave que no existe en un diccionario, cuando dividimos por cero, cuando intentamos un *casting de tipos* no válido, etc. \n",
    "\n",
    "No hay problema interactivamente, porque podemos corregir y reintentar (lo que es genial), pero muchas veces queremos o necesitamos \"capturar\" el potencial error o excepción, ya sea para subsanarlo de alguna manera, registrarlo o lanzar otro más específico en reemplazo, etc. \n",
    "   \n",
    "La sintaxis es un poco parecida al `if / elif / else`"
   ]
  },
  {
   "cell_type": "code",
   "execution_count": 65,
   "metadata": {
    "collapsed": false
   },
   "outputs": [
    {
     "name": "stdout",
     "output_type": "stream",
     "text": [
      "Ingrese un número entero: 1\n",
      "qué lindo número el 1\n"
     ]
    }
   ],
   "source": [
    "while True:\n",
    "    try:\n",
    "        x = int(input(\"Ingrese un número entero: \"))\n",
    "        print(\"qué lindo número el {}\".format(x))\n",
    "        break\n",
    "    except ValueError:\n",
    "        print(\"Eso no es un número válido.\")"
   ]
  },
  {
   "cell_type": "markdown",
   "metadata": {},
   "source": [
    "Una sintaxis más completa permite multiples bloques `except`, un mismo bloque except  un bloque `else` que se ejecuta cuando no se originó ninguna excepción y un bloque `finally` que se ejecuta siempre"
   ]
  },
  {
   "cell_type": "code",
   "execution_count": 66,
   "metadata": {
    "collapsed": false,
    "scrolled": true
   },
   "outputs": [
    {
     "name": "stdout",
     "output_type": "stream",
     "text": [
      "Ingrese el divisor: 3\n",
      "3.3333333333333335\n",
      "todo salió bien. puedo hacer más operaciones\n",
      "no sé qué pasó ni me interesa: yo me ejecuto igual\n"
     ]
    }
   ],
   "source": [
    "\n",
    "try:\n",
    "    x = int(input(\"Ingrese el divisor: \"))\n",
    "    print(10/x)\n",
    "except ZeroDivisionError:\n",
    "    print(\"hubo un error de division por cero, obvio\")\n",
    "except ValueError:\n",
    "    print(\"hubo un error de valor. Poné un numero! \")\n",
    "else:\n",
    "    print('todo salió bien. puedo hacer más operaciones')\n",
    "finally:\n",
    "    print('no sé qué pasó ni me interesa: yo me ejecuto igual')\n",
    "    "
   ]
  },
  {
   "cell_type": "markdown",
   "metadata": {},
   "source": [
    "\n",
    "¡Esto se usa mucho!  En la filosofía de Python, que espera comportamientos y no tipos,  es **mejor pedir perdón que pedir permiso**. Es decir, es preferible capturar potenciales errores de un intento de operación que verificar precondiciones. \n",
    "   \n",
    "#### Ejercicio\n",
    "\n",
    "Redefina el siguiente fragmento de código en una estructura `try / except`\n"
   ]
  },
  {
   "cell_type": "code",
   "execution_count": 67,
   "metadata": {
    "collapsed": false,
    "scrolled": true
   },
   "outputs": [
    {
     "name": "stdout",
     "output_type": "stream",
     "text": [
      "Ingrese opcion a\n",
      "Vamos a  jugar\n"
     ]
    }
   ],
   "source": [
    "opciones = {'a': 'jugar', 'b': 'bailar', 'c': 'dormir siesta'}\n",
    "\n",
    "opcion = input(\"Ingrese opcion \")\n",
    "\n",
    "print('Vamos a ', opciones[opcion])"
   ]
  },
  {
   "cell_type": "code",
   "execution_count": 68,
   "metadata": {
    "collapsed": false
   },
   "outputs": [
    {
     "ename": "KeyError",
     "evalue": "'dfssdf'",
     "output_type": "error",
     "traceback": [
      "\u001b[0;31m---------------------------------------------------------------------------\u001b[0m",
      "\u001b[0;31mKeyError\u001b[0m                                  Traceback (most recent call last)",
      "\u001b[0;32m<ipython-input-68-74b0fa49a6fa>\u001b[0m in \u001b[0;36m<module>\u001b[0;34m()\u001b[0m\n\u001b[0;32m----> 1\u001b[0;31m \u001b[0mopciones\u001b[0m\u001b[0;34m[\u001b[0m\u001b[0;34m'dfssdf'\u001b[0m\u001b[0;34m]\u001b[0m\u001b[0;34m\u001b[0m\u001b[0m\n\u001b[0m",
      "\u001b[0;31mKeyError\u001b[0m: 'dfssdf'"
     ]
    }
   ],
   "source": [
    "opciones['dfssdf']"
   ]
  },
  {
   "cell_type": "code",
   "execution_count": 123,
   "metadata": {
    "collapsed": false
   },
   "outputs": [
    {
     "name": "stdout",
     "output_type": "stream",
     "text": [
      "Ingrese opcion d\n",
      "no existe esa opcion\n"
     ]
    }
   ],
   "source": []
  },
  {
   "cell_type": "markdown",
   "metadata": {},
   "source": [
    "<a id='poo'></a>\n",
    "## 4. Introducción a la programación Orientada a Objetos\n",
    "<a href='#contenidos'>Tabla de Contenidos</a>\n",
    "\n",
    "### Objetos y clases\n",
    "\n",
    "No entraremos en detalle sobre la \"programación orientada a objetos\", solo veremos la utilidad para estructurar código que defina un modelo de lo que se quiere representar para \"encapsular\" datos."
   ]
  },
  {
   "cell_type": "code",
   "execution_count": 73,
   "metadata": {
    "collapsed": false
   },
   "outputs": [],
   "source": [
    "class Rectangulo:\n",
    "    def __init__(self, base, altura):\n",
    "        self.base = base\n",
    "        self.altura = altura\n",
    "    \n",
    "    # el primer parámetro de cada metodo de la clase se llama self\n",
    "    # y hace referencia \"al propio\" objeto, desde donde se puede consultar/modificar \n",
    "    # el estado de sus atributos o llamar a otros métodos\n",
    "    def area(self):     \n",
    "        return self.base * self.altura\n",
    "    \n",
    "    def perimetro(self):\n",
    "        return (self.base + self.altura) * 2\n",
    "\n",
    "# ya tengo la clase Rectangulo. \n",
    "# Ahora puedo definir uno en particular,\n",
    "# un objeto tipo \"Rectangulo\". \n",
    "# Llamar a la clase, implica llamar al metodo inicializador __init__\n",
    "\n",
    "#Inicializo mi clase Rectangulo\n",
    "mi_rectangulo = Rectangulo(2, 4)"
   ]
  },
  {
   "cell_type": "code",
   "execution_count": 74,
   "metadata": {
    "collapsed": false
   },
   "outputs": [
    {
     "data": {
      "text/plain": [
       "__main__.Rectangulo"
      ]
     },
     "execution_count": 74,
     "metadata": {},
     "output_type": "execute_result"
    }
   ],
   "source": [
    "type(mi_rectangulo)"
   ]
  },
  {
   "cell_type": "code",
   "execution_count": 75,
   "metadata": {
    "collapsed": false
   },
   "outputs": [
    {
     "data": {
      "text/plain": [
       "8"
      ]
     },
     "execution_count": 75,
     "metadata": {},
     "output_type": "execute_result"
    }
   ],
   "source": [
    "mi_rectangulo.area()"
   ]
  },
  {
   "cell_type": "code",
   "execution_count": 76,
   "metadata": {
    "collapsed": false
   },
   "outputs": [
    {
     "data": {
      "text/plain": [
       "12"
      ]
     },
     "execution_count": 76,
     "metadata": {},
     "output_type": "execute_result"
    }
   ],
   "source": [
    "mi_rectangulo.perimetro()"
   ]
  },
  {
   "cell_type": "code",
   "execution_count": 77,
   "metadata": {
    "collapsed": false
   },
   "outputs": [
    {
     "data": {
      "text/plain": [
       "8"
      ]
     },
     "execution_count": 77,
     "metadata": {},
     "output_type": "execute_result"
    }
   ],
   "source": [
    "mi_rectangulo.area()"
   ]
  },
  {
   "cell_type": "markdown",
   "metadata": {},
   "source": [
    "Siempre es buena práctica definir el método especial `__str__`, que es el que dice como convertir (spanglish 'castear') nuestro objeto a un string\n"
   ]
  },
  {
   "cell_type": "code",
   "execution_count": 78,
   "metadata": {
    "collapsed": false
   },
   "outputs": [
    {
     "name": "stdout",
     "output_type": "stream",
     "text": [
      "<__main__.Rectangulo object at 0x7f86e4f22278>\n"
     ]
    },
    {
     "data": {
      "text/plain": [
       "<__main__.Rectangulo at 0x7f86e4f22278>"
      ]
     },
     "execution_count": 78,
     "metadata": {},
     "output_type": "execute_result"
    }
   ],
   "source": [
    "print(mi_rectangulo)\n",
    "mi_rectangulo"
   ]
  },
  {
   "cell_type": "markdown",
   "metadata": {},
   "source": [
    "Redefinamos la clase Rectángulo"
   ]
  },
  {
   "cell_type": "code",
   "execution_count": 79,
   "metadata": {
    "collapsed": false
   },
   "outputs": [],
   "source": [
    "class Rectangulo:\n",
    "    def __init__(self, base, altura):\n",
    "        self.base = base\n",
    "        self.altura = altura\n",
    "    \n",
    "    def area(self):\n",
    "        return self.base * self.altura\n",
    "    \n",
    "    def perimetro(self):\n",
    "        return (self.base + self.altura) * 2\n",
    "    \n",
    "\n",
    "    def __str__(self):\n",
    "        return \"%s de %s x %s\" % (type(self).__name__, self.base, self.altura)\n",
    "    "
   ]
  },
  {
   "cell_type": "code",
   "execution_count": 80,
   "metadata": {
    "collapsed": false
   },
   "outputs": [
    {
     "data": {
      "text/plain": [
       "'Rectangulo de 3 x 4'"
      ]
     },
     "execution_count": 80,
     "metadata": {},
     "output_type": "execute_result"
    }
   ],
   "source": [
    "r = Rectangulo(3, 4)\n",
    "\n",
    "str(r)"
   ]
  },
  {
   "cell_type": "markdown",
   "metadata": {},
   "source": [
    "###  Herencia de objetos\n",
    "\n",
    "Si queremos definir un nuevo elemento geométrico, un cuadrado, podemos utilizar las definiciones realizadas en la clase rectángulo (donde base == altura). Entonces en lugar de escribir una nueva clase casi igual (DUPLICACION DE CODIGO), utilizamos las propiedades de las clases: **herencia de objetos**"
   ]
  },
  {
   "cell_type": "code",
   "execution_count": 82,
   "metadata": {
    "collapsed": false
   },
   "outputs": [],
   "source": [
    "class Cuadrado(Rectangulo): # cuadrado es una subclase de rectángulo.\n",
    "    def __init__(self, lado):\n",
    "        # Utilizo la definición de la función miembro de la clase rectángulo\n",
    "        super(Cuadrado, self).__init__(lado, lado) # create como si fueses un rectángulo, de base lado y altura lado"
   ]
  },
  {
   "cell_type": "code",
   "execution_count": 83,
   "metadata": {
    "collapsed": false
   },
   "outputs": [
    {
     "data": {
      "text/plain": [
       "8"
      ]
     },
     "execution_count": 83,
     "metadata": {},
     "output_type": "execute_result"
    }
   ],
   "source": [
    "cuadrado = Cuadrado(2)\n",
    "cuadrado.perimetro()"
   ]
  },
  {
   "cell_type": "markdown",
   "metadata": {},
   "source": [
    "En python no sólo podemos reusar código \"verticalmente\" (herencia simple). Podemos incorporar \"comportamientos\" de multiples clases padre (herencia múltiple). Esto es lo que se conoce como el patrón \"Mixin\". \n",
    "\n"
   ]
  },
  {
   "cell_type": "code",
   "execution_count": 84,
   "metadata": {
    "collapsed": false
   },
   "outputs": [
    {
     "data": {
      "text/plain": [
       "16"
      ]
     },
     "execution_count": 84,
     "metadata": {},
     "output_type": "execute_result"
    }
   ],
   "source": [
    "class OVNI(object):\n",
    "    \n",
    "    def volar(self):\n",
    "        print(\"Soy un %s y estoy volando!\" % self)\n",
    "        return 42\n",
    "\n",
    "class CuadradoVolador(Cuadrado, OVNI):\n",
    "    pass\n",
    "\n",
    "mi_cuadrado_volador = CuadradoVolador(4)\n",
    "mi_cuadrado_volador.area()"
   ]
  },
  {
   "cell_type": "markdown",
   "metadata": {},
   "source": [
    "Pero podemos tener un tipo especial CuadradoVolador que \"vuele\" de otra manera. Simplemente heredamos y reescribimos o extendemos usando la método `super()`"
   ]
  },
  {
   "cell_type": "code",
   "execution_count": 85,
   "metadata": {
    "collapsed": false
   },
   "outputs": [
    {
     "name": "stdout",
     "output_type": "stream",
     "text": [
      "Soy un CuadradoVoladorSupersonico de 2 x 2 y estoy volando!\n",
      "y estoy volando supersónicamente a 42 metros!\n"
     ]
    }
   ],
   "source": [
    "class CuadradoVoladorSupersonico(CuadradoVolador):\n",
    "    \n",
    "    def volar(self): # esto se llama \"sobrecargar método\"\n",
    "        valor = super(CuadradoVoladorSupersonico, self).volar()\n",
    "        print(\"y estoy volando supersónicamente a %i metros!\" % valor )\n",
    "\n",
    "    \n",
    "    def volar_distinto(self):\n",
    "        print('vuelo dando aletazos')\n",
    "    \n",
    "\n",
    "supersonico = CuadradoVoladorSupersonico(2)\n",
    "supersonico.volar()"
   ]
  },
  {
   "cell_type": "markdown",
   "metadata": {
    "collapsed": false
   },
   "source": [
    "###  Ejercicio\n",
    "\n",
    "Defina una clase `Estudiante` con atributos nombre, año_ingreso. Defina un método que devuelva la cantidad de años que lleva de cursado hasta el 2017. Luego redefina el método como `__len__` y `__str__` para utilizar la función len() con la instancia y poder imprimir por pantalla la información del alumno."
   ]
  },
  {
   "cell_type": "code",
   "execution_count": 92,
   "metadata": {
    "collapsed": false
   },
   "outputs": [
    {
     "data": {
      "text/plain": [
       "15"
      ]
     },
     "execution_count": 92,
     "metadata": {},
     "output_type": "execute_result"
    }
   ],
   "source": [
    "alumno = Estudiante('X', 2002)\n",
    "\n",
    "alumno.años_cursado()"
   ]
  },
  {
   "cell_type": "code",
   "execution_count": 93,
   "metadata": {
    "collapsed": false
   },
   "outputs": [
    {
     "name": "stdout",
     "output_type": "stream",
     "text": [
      "\n",
      "        Nombre: \t\tJosé Perez\n",
      "        Fecha de ingreso: \t2002\n",
      "        Años cursados: \t\t15\n"
     ]
    }
   ],
   "source": [
    "alumno.nombre = 'José Perez'\n",
    "\n",
    "print(alumno)"
   ]
  },
  {
   "cell_type": "code",
   "execution_count": 94,
   "metadata": {
    "collapsed": false
   },
   "outputs": [
    {
     "data": {
      "text/plain": [
       "15"
      ]
     },
     "execution_count": 94,
     "metadata": {},
     "output_type": "execute_result"
    }
   ],
   "source": [
    "len(alumno)"
   ]
  },
  {
   "cell_type": "markdown",
   "metadata": {},
   "source": [
    "<a id='io'></a>\n",
    "## 5. Lectura escritura de archivos\n",
    "<a href='#contenidos'>Tabla de Contenidos</a>\n",
    "\n",
    "Siempre necesitamos leer y escribir archivos. Es la forma básica de interactuar con el resto del sistema, introducir y exportar datos para la \"computación\". Como en Python todo es un objeto, lo que tenemos es un \"objeto manejador de archivos\" . La forma más básica de obtener uno es con la función `open()` que se le dice la ruta al archivo y modo/s, que se especifican con \n",
    "\n",
    "\n",
    "       'r': lectura (default)\n",
    "       'w': (sobre)escritura\n",
    "       'a': agregar contenido al final \n",
    "       'x': para escribir, pero no sobreescribe si existe el path\n",
    "       'b': modo binario\n",
    "       't': modo texto (default)\n",
    "       '+': actualizar contenido\n",
    "       \n",
    "\n"
   ]
  },
  {
   "cell_type": "code",
   "execution_count": 96,
   "metadata": {
    "collapsed": false
   },
   "outputs": [
    {
     "name": "stdout",
     "output_type": "stream",
     "text": [
      "<_io.TextIOWrapper name='data/miArchivo.txt' mode='r' encoding='UTF-8'>\n"
     ]
    }
   ],
   "source": [
    "readme = open('data/miArchivo.txt')    # se usa modo default 'rt' (sólo lectura, formato texto)\n",
    "print(readme)"
   ]
  },
  {
   "cell_type": "markdown",
   "metadata": {},
   "source": [
    "Los objetos `file like` como `readme` tienen un método principal `read` que lee n cantidad de caracteres (o bytes en modo binario) o todo el contenido si no se especifica"
   ]
  },
  {
   "cell_type": "code",
   "execution_count": 97,
   "metadata": {
    "collapsed": false
   },
   "outputs": [
    {
     "data": {
      "text/plain": [
       "\"'Hola desde mi archivo'\\n\""
      ]
     },
     "execution_count": 97,
     "metadata": {},
     "output_type": "execute_result"
    }
   ],
   "source": [
    "texto = readme.read(100)\n",
    "\n",
    "texto"
   ]
  },
  {
   "cell_type": "code",
   "execution_count": 98,
   "metadata": {
    "collapsed": false
   },
   "outputs": [
    {
     "name": "stdout",
     "output_type": "stream",
     "text": [
      "'Hola desde mi archivo'\n",
      "\n"
     ]
    }
   ],
   "source": [
    "print(texto)"
   ]
  },
  {
   "cell_type": "markdown",
   "metadata": {},
   "source": [
    "Precaución: el objeto manejador lleva internamente la **posición del cursor**. Por ejemplo, si invocan multiples veces el metodo `read()`, leerán porciones consecutivas del archivo. \n",
    "\n",
    "Métodos útiles: `read()`, `readlines()`, `write()`, `writelines()`\n",
    "\n",
    "A veces simplemente queremos hacer algo \"linea por linea\". En vez de usar `readlines()` y cargar todo en memoria (que puede ser grande), podemos iterar directamente sobre el archivo. "
   ]
  },
  {
   "cell_type": "code",
   "execution_count": 99,
   "metadata": {
    "collapsed": false
   },
   "outputs": [
    {
     "name": "stdout",
     "output_type": "stream",
     "text": [
      "'HOLA DESDE MI ARCHIVO'\n",
      "\n"
     ]
    }
   ],
   "source": [
    "readme = open('data/miArchivo.txt')\n",
    "for linea in readme:\n",
    "    print(linea.upper())"
   ]
  },
  {
   "cell_type": "code",
   "execution_count": 101,
   "metadata": {
    "collapsed": false
   },
   "outputs": [
    {
     "name": "stdout",
     "output_type": "stream",
     "text": [
      "# Programación Lineal - 2017 de la Universidad del Comahue. Centro Regional Bariloche\n",
      "\n",
      "\n",
      "\n",
      "Profesorado Universitario y Licenciatura en Matematicas\n",
      "\n",
      "\n",
      "\n"
     ]
    }
   ],
   "source": [
    "readme = open('../README.md')\n",
    "for i, linea in enumerate(readme):\n",
    "    if i < 4:\n",
    "        print(linea)\n",
    "    else:\n",
    "        break"
   ]
  },
  {
   "cell_type": "code",
   "execution_count": 102,
   "metadata": {
    "collapsed": false,
    "scrolled": true
   },
   "outputs": [
    {
     "name": "stdout",
     "output_type": "stream",
     "text": [
      "\n"
     ]
    }
   ],
   "source": [
    "readme2 = open('../README.md', 'r')\n",
    "readme2.readlines()\n",
    "\n",
    "print(\"\".join(readme2.readlines()[0:4]))\n"
   ]
  },
  {
   "cell_type": "markdown",
   "metadata": {},
   "source": [
    "Hasta que no se invoca al método `close()` el archivo está manejado en memoria por Python (y puede causar conflictos si queremos abrir el archivo desde otro programa). Como los objetos `file` saben usar un bloque `with` (manejador de contexto), podemos usarlo para que se cierre automáticamente. "
   ]
  },
  {
   "cell_type": "code",
   "execution_count": 103,
   "metadata": {
    "collapsed": false
   },
   "outputs": [
    {
     "name": "stdout",
     "output_type": "stream",
     "text": [
      "['\\n', 'Profesorado Universitario y Licenciatura en Matematicas\\n', '\\n', 'http://crubweb.uncoma.edu.ar/\\n']\n"
     ]
    }
   ],
   "source": [
    "with open('../README.md', 'r') as readme:\n",
    "    lineas = readme.readlines()[1:5] #mete las líneas en una lista\n",
    "print(lineas)\n"
   ]
  },
  {
   "cell_type": "markdown",
   "metadata": {},
   "source": [
    "###  Lectura y escritura de  datos numéricos\n"
   ]
  },
  {
   "cell_type": "code",
   "execution_count": 107,
   "metadata": {
    "collapsed": false
   },
   "outputs": [
    {
     "name": "stdout",
     "output_type": "stream",
     "text": [
      "[ 3.00699201  2.98047152  2.95563484  2.93227078]\n"
     ]
    }
   ],
   "source": [
    "import numpy as np\n",
    "\n",
    "#Archivo de entrada\n",
    "filename = './data/misDatosNumericos'\n",
    "\n",
    "#MUCHO CUIDADO, verificar que solo hayan datos numéricos (sin textos ni otro tipo de caracteres especiales)\n",
    "dataIn = np.loadtxt(filename+\".dat\")\n",
    "\n",
    "#MUCHO CUIDADO,Tengo que mirar que hay en el archivo PRIMERO antes de hacer esto!!\n",
    "\n",
    "#Cargo la primer columna como x\n",
    "#Supongo que todas las columnas tienen el mismo número de filas\n",
    "x = np.array([dataIn[i,0] for i in range(len(dataIn[:,0]))])\n",
    "#Cargo la segunda columna como y\n",
    "y = np.array([dataIn[i,1] for i in range(len(dataIn[:,0]))])\n",
    "#Cargo la tercera columna como z\n",
    "z = np.array([dataIn[i,2] for i in range(len(dataIn[:,0]))])\n",
    "\n",
    "print(z)\n"
   ]
  },
  {
   "cell_type": "code",
   "execution_count": 110,
   "metadata": {
    "collapsed": false
   },
   "outputs": [
    {
     "name": "stdout",
     "output_type": "stream",
     "text": [
      "Fijate si se escribieron los cálculos realizados en ./outs/miCalculo.dat\n"
     ]
    }
   ],
   "source": [
    "from math import sin\n",
    "#Generemos un nuevo archivo con datos numéricos para guardar algun cálculo importante\n",
    "filenameOut = './outs/miCalculo.dat'\n",
    "escribirArchivo1 = open(filenameOut, \"w\")\n",
    "\n",
    "#Supongamos que quiero guardar la variables x que leí del archivo de entrada miArchivo y el cálculo de la función sin(x)\n",
    "for i in range(0,len(x)):\n",
    "    escribirArchivo1.write(\"%.8e\\t%.8e\\n\" % (x[i],sin(x[i])))\n",
    "\n",
    "print(\"Fijate si se escribieron los cálculos realizados en ./outs/miCalculo.dat\")\n"
   ]
  },
  {
   "cell_type": "markdown",
   "metadata": {},
   "source": [
    "#### Ejercicio\n",
    "\n",
    "1 - Generar una función que divida 2$pi$ en $n$ intervalo y guarde el resultado en un archivo que se llame 'input_n.dat', con n definido por el usuario\n",
    "\n",
    "2 - Lea el archivo 'input_n.dat' que ud. genero en el paso anterior, y defina una función que calcule al menos tres funciones trigonométricas de su elección sobre el intervalo de puntos dados en el archivo de entrada. Guarde los cálculos en un archivo llamado \"misFuncionesTrig_n.dat\" "
   ]
  },
  {
   "cell_type": "markdown",
   "metadata": {},
   "source": [
    "### Termine el cuaderno 2!!!\n",
    "<a href='#contenidos'>Tabla de Contenidos</a>"
   ]
  },
  {
   "cell_type": "code",
   "execution_count": null,
   "metadata": {
    "collapsed": true
   },
   "outputs": [],
   "source": []
  }
 ],
 "metadata": {
  "anaconda-cloud": {},
  "kernelspec": {
   "display_name": "Python [conda env:py3k]",
   "language": "python",
   "name": "conda-env-py3k-py"
  },
  "language_info": {
   "codemirror_mode": {
    "name": "ipython",
    "version": 3
   },
   "file_extension": ".py",
   "mimetype": "text/x-python",
   "name": "python",
   "nbconvert_exporter": "python",
   "pygments_lexer": "ipython3",
   "version": "3.5.2"
  }
 },
 "nbformat": 4,
 "nbformat_minor": 0
}
